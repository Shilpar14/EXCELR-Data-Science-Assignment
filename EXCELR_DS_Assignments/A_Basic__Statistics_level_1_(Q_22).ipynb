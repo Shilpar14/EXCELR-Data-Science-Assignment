{
  "nbformat": 4,
  "nbformat_minor": 0,
  "metadata": {
    "colab": {
      "provenance": []
    },
    "kernelspec": {
      "name": "python3",
      "display_name": "Python 3"
    },
    "language_info": {
      "name": "python"
    }
  },
  "cells": [
    {
      "cell_type": "code",
      "source": [
        "import numpy as np\n",
        "from scipy import stats"
      ],
      "metadata": {
        "id": "qUNiDkv7eM9L"
      },
      "execution_count": null,
      "outputs": []
    },
    {
      "cell_type": "markdown",
      "source": [
        "# **90 % Confidence Interval**"
      ],
      "metadata": {
        "id": "OyNBgGWfdoE9"
      }
    },
    {
      "cell_type": "code",
      "source": [
        "#at 90 % CI ,alpha =5%=0.05\n",
        "a=np.round(stats.norm.ppf(0.05),4)\n",
        "print('Z score for 90% Condidence Interval =',a)"
      ],
      "metadata": {
        "colab": {
          "base_uri": "https://localhost:8080/"
        },
        "id": "K7Ac-lEzdtwz",
        "outputId": "0168a463-98ed-4a70-ce01-fbc543cc6a2a"
      },
      "execution_count": null,
      "outputs": [
        {
          "output_type": "stream",
          "name": "stdout",
          "text": [
            "Z score for 90% Condidence Interval = -1.6449\n"
          ]
        }
      ]
    },
    {
      "cell_type": "markdown",
      "source": [
        "# **94 % Confidence Interval**"
      ],
      "metadata": {
        "id": "959GBip-fW4T"
      }
    },
    {
      "cell_type": "code",
      "source": [
        "#at 94 % CI ,alpha =3%=0.03\n",
        "b=np.round(stats.norm.ppf(0.03),4)\n",
        "print('Z score for 94% Condidence Interval =',b)"
      ],
      "metadata": {
        "colab": {
          "base_uri": "https://localhost:8080/"
        },
        "id": "8D-OUzgUfjo8",
        "outputId": "972466aa-d407-4ea8-a1ca-deff86fbd7d4"
      },
      "execution_count": null,
      "outputs": [
        {
          "output_type": "stream",
          "name": "stdout",
          "text": [
            "Z score for 94% Condidence Interval = -1.8808\n"
          ]
        }
      ]
    },
    {
      "cell_type": "markdown",
      "source": [
        "# **60 % Confidence Interval**"
      ],
      "metadata": {
        "id": "rNhdb6mffzAM"
      }
    },
    {
      "cell_type": "code",
      "source": [
        "#at 60 % CI ,alpha =20%=0.2\n",
        "c=np.round(stats.norm.ppf(0.2),4)\n",
        "print('Z score for 60% Condidence Interval =',c)"
      ],
      "metadata": {
        "colab": {
          "base_uri": "https://localhost:8080/"
        },
        "id": "9MsF8wVdf5Xt",
        "outputId": "0b82416d-5cbf-4ee7-c5f3-acfa7f6a41f6"
      },
      "execution_count": null,
      "outputs": [
        {
          "output_type": "stream",
          "name": "stdout",
          "text": [
            "Z score for 60% Condidence Interval = -0.8416\n"
          ]
        }
      ]
    }
  ]
}