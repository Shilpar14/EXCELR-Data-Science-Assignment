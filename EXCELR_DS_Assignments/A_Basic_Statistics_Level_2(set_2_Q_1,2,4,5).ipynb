{
  "nbformat": 4,
  "nbformat_minor": 0,
  "metadata": {
    "colab": {
      "provenance": []
    },
    "kernelspec": {
      "name": "python3",
      "display_name": "Python 3"
    },
    "language_info": {
      "name": "python"
    }
  },
  "cells": [
    {
      "cell_type": "markdown",
      "source": [
        "# **Q1. What is the probability that the service manager cannot meet his commitment?**"
      ],
      "metadata": {
        "id": "2w4oGvfMZP6Q"
      }
    },
    {
      "cell_type": "code",
      "source": [
        "from scipy import stats\n",
        "import numpy as np"
      ],
      "metadata": {
        "id": "fWn0k-qcZWML"
      },
      "execution_count": null,
      "outputs": []
    },
    {
      "cell_type": "code",
      "source": [
        "mu=55\n",
        "stdv=8\n",
        "q1=1-stats.norm.cdf(60,loc=mu,scale=stdv)\n",
        "q1"
      ],
      "metadata": {
        "colab": {
          "base_uri": "https://localhost:8080/"
        },
        "id": "Esew9u3aZe3i",
        "outputId": "7c7890b1-8a19-4ecb-aeda-8d079565b517"
      },
      "execution_count": null,
      "outputs": [
        {
          "output_type": "execute_result",
          "data": {
            "text/plain": [
              "0.26598552904870054"
            ]
          },
          "metadata": {},
          "execution_count": 3
        }
      ]
    },
    {
      "cell_type": "markdown",
      "source": [
        "# **Q2 .. For each statement below, please specify True/False. If false, briefly explain why.**"
      ],
      "metadata": {
        "id": "VVc4vMt0a7LG"
      }
    },
    {
      "cell_type": "markdown",
      "source": [
        "A. . For each statement below, please specify True/False. If false, briefly explain why."
      ],
      "metadata": {
        "id": "OBnV9qIoa_2S"
      }
    },
    {
      "cell_type": "code",
      "source": [
        "mn=38\n",
        "stdv2=6\n",
        "l_38 = stats.norm.cdf(38,mn,stdv2)\n",
        "l_38"
      ],
      "metadata": {
        "colab": {
          "base_uri": "https://localhost:8080/"
        },
        "id": "jdXpAGDTbFFU",
        "outputId": "4e7e2222-e59c-4e91-c00f-51c67b88bd55"
      },
      "execution_count": null,
      "outputs": [
        {
          "output_type": "execute_result",
          "data": {
            "text/plain": [
              "0.5"
            ]
          },
          "metadata": {},
          "execution_count": 4
        }
      ]
    },
    {
      "cell_type": "code",
      "source": [
        "l_44 = stats.norm.cdf(44,mn,stdv2)\n",
        "l_44"
      ],
      "metadata": {
        "colab": {
          "base_uri": "https://localhost:8080/"
        },
        "id": "tswR5IqgcmOm",
        "outputId": "b5834efa-589c-454f-a5b3-ac79b0dd238b"
      },
      "execution_count": null,
      "outputs": [
        {
          "output_type": "execute_result",
          "data": {
            "text/plain": [
              "0.8413447460685429"
            ]
          },
          "metadata": {},
          "execution_count": 5
        }
      ]
    },
    {
      "cell_type": "code",
      "source": [
        "ans=l_44-l_38\n",
        "print(\"The probability of employee age between 38 and 44 is:\",np.round(ans*100,2),\"%\")"
      ],
      "metadata": {
        "colab": {
          "base_uri": "https://localhost:8080/"
        },
        "id": "U8U02TWddGAQ",
        "outputId": "07d9ae8d-069b-44f1-c668-3877a341385d"
      },
      "execution_count": null,
      "outputs": [
        {
          "output_type": "stream",
          "name": "stdout",
          "text": [
            "The probability of employee age between 38 and 44 is: 34.13 %\n"
          ]
        }
      ]
    },
    {
      "cell_type": "code",
      "source": [
        "m_44 =1- stats.norm.cdf(44,mn,stdv2)\n",
        "m_44"
      ],
      "metadata": {
        "colab": {
          "base_uri": "https://localhost:8080/"
        },
        "id": "DO9hvoK7ecvL",
        "outputId": "9d43fe4e-7c24-47b4-8948-5f31644f7cab"
      },
      "execution_count": null,
      "outputs": [
        {
          "output_type": "execute_result",
          "data": {
            "text/plain": [
              "0.15865525393145707"
            ]
          },
          "metadata": {},
          "execution_count": 7
        }
      ]
    },
    {
      "cell_type": "code",
      "source": [
        "m_44>ans"
      ],
      "metadata": {
        "colab": {
          "base_uri": "https://localhost:8080/"
        },
        "id": "7WHN77LzepI9",
        "outputId": "87e7c3b4-6ff8-4625-cf2f-21791a8a310b"
      },
      "execution_count": null,
      "outputs": [
        {
          "output_type": "execute_result",
          "data": {
            "text/plain": [
              "False"
            ]
          },
          "metadata": {},
          "execution_count": 8
        }
      ]
    },
    {
      "cell_type": "markdown",
      "source": [
        "B.A training program for employees under the age of 30 at the center would be expected to attract about 36 employees."
      ],
      "metadata": {
        "id": "5x5_kVt9gWrY"
      }
    },
    {
      "cell_type": "code",
      "source": [
        "q2b=stats.norm.cdf(30,mn,stdv2)\n",
        "print(\"A training program for employees under the age of 30 at the center would be expected to attract about\",np.round(((q2b*400)/100)*100,0) , \"people\")\n"
      ],
      "metadata": {
        "colab": {
          "base_uri": "https://localhost:8080/"
        },
        "id": "9xjS6DvlgYcE",
        "outputId": "6639bec0-1806-4227-8f59-1af09aaf58ff"
      },
      "execution_count": null,
      "outputs": [
        {
          "output_type": "stream",
          "name": "stdout",
          "text": [
            "A training program for employees under the age of 30 at the center would be expected to attract about 36.0 people\n"
          ]
        }
      ]
    },
    {
      "cell_type": "markdown",
      "source": [
        "# **Question 4\n",
        "## Let X ~ N(100, 202). Find two values, a and b, symmetric about the mean, such that the probability of the random variable taking a value between them is 0.99.**"
      ],
      "metadata": {
        "id": "9UIa4hd1inKO"
      }
    },
    {
      "cell_type": "code",
      "source": [
        "print(\"\"\"The two values of a and b, symmetric about the mean,\n",
        "      are such that the probability of the random variable\n",
        "      taking a value between them is 0.99:\"\"\",np.round(stats.norm.interval(0.99, loc = 100, scale = 20),1))"
      ],
      "metadata": {
        "colab": {
          "base_uri": "https://localhost:8080/"
        },
        "id": "Z0q-RHcrgLkn",
        "outputId": "a9bc622e-de25-4fef-83fa-6c8ec659b715"
      },
      "execution_count": null,
      "outputs": [
        {
          "output_type": "stream",
          "name": "stdout",
          "text": [
            "The two values of a and b, symmetric about the mean, \n",
            "      are such that the probability of the random variable \n",
            "      taking a value between them is 0.99: [ 48.5 151.5]\n"
          ]
        }
      ]
    },
    {
      "cell_type": "markdown",
      "source": [
        "# **Q5**"
      ],
      "metadata": {
        "id": "VlsHT9nlhy7O"
      }
    },
    {
      "cell_type": "code",
      "source": [
        "mean1 = 5\n",
        "mean2 = 7\n",
        "Mean = (mean1+mean2) # 1 USD = 45 rupees\n",
        "print('The Mean Profit of both division:',Mean, 'Million$')\n",
        "print('The Mean Profit of both division:',(Mean*45)/10, 'Crore Rupees')\n",
        "\n",
        "# Combine standard Deviation = (Std1^2 + Std2^2)^1/2\n",
        "std1 = 3**2\n",
        "std2 = 4**2\n",
        "Std = np.sqrt(std1 + std2)\n",
        "print('The Standard Deviation of both division:', Std, 'Million$')\n",
        "print('The Standard Deviation of both division:', (Std*45)/10, 'Crore Rupees')"
      ],
      "metadata": {
        "colab": {
          "base_uri": "https://localhost:8080/"
        },
        "id": "P-3BOtJ9h_pO",
        "outputId": "f27d1b2f-195a-4131-9f95-7a0be3ffca0a"
      },
      "execution_count": null,
      "outputs": [
        {
          "output_type": "stream",
          "name": "stdout",
          "text": [
            "The Mean Profit of both division: 12 Million$\n",
            "The Mean Profit of both division: 54.0 Crore Rupees\n",
            "The Standard Deviation of both division: 5.0 Million$\n",
            "The Standard Deviation of both division: 22.5 Crore Rupees\n"
          ]
        }
      ]
    },
    {
      "cell_type": "markdown",
      "source": [
        "A.A.\tSpecify a Rupee range (centered on the mean) such that it contains 95% probability for the annual profit of the company."
      ],
      "metadata": {
        "id": "1zhTA77sh67D"
      }
    },
    {
      "cell_type": "code",
      "source": [
        "r1,r2 = np.round(stats.norm.interval(0.95, Mean, Std),2)\n",
        "print('Rupee Ranges from',r1,'to',r2,'Million$ in Annual profit of the Company 95% of the time')\n",
        "print('Rupee Ranges from',np.divide(np.multiply(r1,45),10),'to',np.divide(np.multiply(r2,45),10),'Crore Rupees in Annual profit of the Company 95% of the time')\n",
        "')'"
      ],
      "metadata": {
        "colab": {
          "base_uri": "https://localhost:8080/",
          "height": 70
        },
        "id": "GBbPXTZYhClj",
        "outputId": "91b42a02-eb1a-4d75-97d0-c42e9975d8ed"
      },
      "execution_count": null,
      "outputs": [
        {
          "output_type": "stream",
          "name": "stdout",
          "text": [
            "Rupee Ranges from 2.2 to 21.8 Million$ in Annual profit of the Company 95% of the time\n",
            "Rupee Ranges from 9.900000000000002 to 98.1 Crore Rupees in Annual profit of the Company 95% of the time\n"
          ]
        },
        {
          "output_type": "execute_result",
          "data": {
            "text/plain": [
              "')'"
            ],
            "application/vnd.google.colaboratory.intrinsic+json": {
              "type": "string"
            }
          },
          "metadata": {},
          "execution_count": 14
        }
      ]
    },
    {
      "cell_type": "markdown",
      "source": [
        "B.\tSpecify the 5th percentile of profit (in Rupees) for the company\n"
      ],
      "metadata": {
        "id": "Yb8kMnp7kbUV"
      }
    },
    {
      "cell_type": "code",
      "source": [
        "# Z value  = X_bar - Mu/ Std pop\n",
        "# for percentile, X_percentile = (Zvalue * Std pop) + Mu\n",
        "Z_05_ = stats.norm.ppf(0.05)\n",
        "Fifth_percentile = (Z_05_ * Std) + Mean\n",
        "print('The 5th percentile of Profit for the company is',np.round(Fifth_percentile,2),'Million$')\n",
        "print('The 5th percentile of Profit for the company is',np.round((Fifth_percentile*45)/10,),'Crore Rupees')"
      ],
      "metadata": {
        "colab": {
          "base_uri": "https://localhost:8080/"
        },
        "id": "sclbLWAwkcwp",
        "outputId": "87b446ac-54f6-47f8-939a-cc1e915cb997"
      },
      "execution_count": null,
      "outputs": [
        {
          "output_type": "stream",
          "name": "stdout",
          "text": [
            "The 5th percentile of Profit for the company is 3.78 Million$\n",
            "The 5th percentile of Profit for the company is 17.0 Crore Rupees\n"
          ]
        }
      ]
    },
    {
      "cell_type": "markdown",
      "source": [
        "C.\tWhich of the two divisions has a larger probability of making a loss in a given year?"
      ],
      "metadata": {
        "id": "TE-ZGczGlXHs"
      }
    },
    {
      "cell_type": "code",
      "source": [
        "Division_1 = (stats.norm.cdf(0,5,3))*100\n",
        "Division_2 = (stats.norm.cdf(0,7,4))*100\n",
        "print('The Probability of Division #1 making a loss is',np.round(Division_1,2),'%')\n",
        "\n",
        "# The probability of Division #2 making a loss\n",
        "print('The Probability of Division #2 making a loss is',np.round(Division_2,2),'%')\n",
        "if Division_1>Division_2:\n",
        "    print('The Division 1 has a larger Probability of making a loss')\n",
        "else:\n",
        "          print('The Division 2 has a larger Porbability of making a loss')\n"
      ],
      "metadata": {
        "colab": {
          "base_uri": "https://localhost:8080/"
        },
        "id": "dz0VqS5YlTJR",
        "outputId": "6bc82e1a-430c-4204-984b-42e1937bcf18"
      },
      "execution_count": null,
      "outputs": [
        {
          "output_type": "stream",
          "name": "stdout",
          "text": [
            "The Probability of Division #1 making a loss is 4.78 %\n",
            "The Probability of Division #2 making a loss is 4.01 %\n"
          ]
        }
      ]
    }
  ]
}