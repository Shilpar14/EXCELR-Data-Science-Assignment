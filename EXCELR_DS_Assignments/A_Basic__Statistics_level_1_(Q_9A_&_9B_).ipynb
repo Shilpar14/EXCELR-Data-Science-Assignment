{
  "nbformat": 4,
  "nbformat_minor": 0,
  "metadata": {
    "colab": {
      "provenance": []
    },
    "kernelspec": {
      "name": "python3",
      "display_name": "Python 3"
    },
    "language_info": {
      "name": "python"
    }
  },
  "cells": [
    {
      "cell_type": "code",
      "execution_count": null,
      "metadata": {
        "id": "Bc8TdbHXjLIk"
      },
      "outputs": [],
      "source": [
        "import numpy as np\n",
        "import pandas as pd"
      ]
    },
    {
      "cell_type": "code",
      "source": [
        "data1=pd.read_csv('Q9_a.csv')\n",
        "data2=pd.read_csv('Q9_b.csv')"
      ],
      "metadata": {
        "id": "60RqFUL8jyEZ"
      },
      "execution_count": null,
      "outputs": []
    },
    {
      "cell_type": "code",
      "source": [
        "data1"
      ],
      "metadata": {
        "id": "Lydg_ld_k7sf"
      },
      "execution_count": null,
      "outputs": []
    },
    {
      "cell_type": "code",
      "source": [
        "data2"
      ],
      "metadata": {
        "id": "gDNBNImpnGxY"
      },
      "execution_count": null,
      "outputs": []
    },
    {
      "cell_type": "code",
      "source": [
        "print('speed , Skewness value =',np.round(data1.speed.skew(),2),'and Kurtosis value ',np.round(data1.speed.kurt(),2))"
      ],
      "metadata": {
        "colab": {
          "base_uri": "https://localhost:8080/"
        },
        "id": "bD9YkZIDkK4W",
        "outputId": "bd7920fc-3cdc-43d4-a331-b1ff9d3147c8"
      },
      "execution_count": null,
      "outputs": [
        {
          "output_type": "stream",
          "name": "stdout",
          "text": [
            "cars speed, Skewness value = -0.12 and Kurtosis value  -0.51\n"
          ]
        }
      ]
    },
    {
      "cell_type": "code",
      "source": [
        "print('Distance, Skewness value =',np.round(data1.dist.skew(),2),'and Kurtosis value ',np.round(data1.dist.kurt(),2))"
      ],
      "metadata": {
        "colab": {
          "base_uri": "https://localhost:8080/"
        },
        "id": "w4yfC5h4mMV2",
        "outputId": "36206f51-cd06-43b5-cb11-32b42161d7ca"
      },
      "execution_count": null,
      "outputs": [
        {
          "output_type": "stream",
          "name": "stdout",
          "text": [
            "Distance, Skewness value = 0.81 and Kurtosis value  0.41\n"
          ]
        }
      ]
    },
    {
      "cell_type": "code",
      "source": [
        "print('SP, Skewness value =',np.round(data2.SP.skew(),2),'and Kurtosis value ',np.round(data2.SP.kurt(),2))"
      ],
      "metadata": {
        "colab": {
          "base_uri": "https://localhost:8080/"
        },
        "id": "w9_rJ9punKBi",
        "outputId": "689479d8-0849-4560-d9d5-df27ab73b16e"
      },
      "execution_count": null,
      "outputs": [
        {
          "output_type": "stream",
          "name": "stdout",
          "text": [
            "SP, Skewness value = 1.61 and Kurtosis value  2.98\n"
          ]
        }
      ]
    },
    {
      "cell_type": "code",
      "source": [
        "print('WT, Skewness value =',np.round(data2.WT.skew(),2),'and Kurtosis value ',np.round(data2.WT.kurt(),2))"
      ],
      "metadata": {
        "colab": {
          "base_uri": "https://localhost:8080/"
        },
        "id": "VKHt5J3rnMzy",
        "outputId": "d3553bfd-a492-4d76-b461-9cb85ed1760f"
      },
      "execution_count": null,
      "outputs": [
        {
          "output_type": "stream",
          "name": "stdout",
          "text": [
            "WT, Skewness value = -0.61 and Kurtosis value  0.95\n"
          ]
        }
      ]
    }
  ]
}